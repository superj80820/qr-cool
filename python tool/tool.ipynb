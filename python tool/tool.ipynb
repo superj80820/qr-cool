{
 "cells": [
  {
   "cell_type": "code",
   "execution_count": 5,
   "metadata": {},
   "outputs": [],
   "source": [
    "import base64\n",
    "import requests\n",
    "import json\n",
    "import qrcode\n",
    "from pyzbar.pyzbar import decode\n",
    "from PIL import Image\n",
    "import random"
   ]
  },
  {
   "cell_type": "markdown",
   "metadata": {},
   "source": [
    "## 將base64存成圖片"
   ]
  },
  {
   "cell_type": "code",
   "execution_count": 16,
   "metadata": {},
   "outputs": [],
   "source": [
    "with open('app_test.txt','r') as base64_file:\n",
    "    base64_image=base64_file.read()\n",
    "    imgdata = base64.b64decode(base64_image)\n",
    "    \n",
    "with open(filename, 'wb') as f:\n",
    "    filename = 'app_test.jpg'  \n",
    "    f.write(imgdata)\n"
   ]
  },
  {
   "cell_type": "markdown",
   "metadata": {},
   "source": [
    "## 製作qr code"
   ]
  },
  {
   "cell_type": "code",
   "execution_count": 18,
   "metadata": {},
   "outputs": [],
   "source": [
    "def qr_random():\n",
    "    str_return=''\n",
    "    for item in list(range(1,6)):\n",
    "        str_return+=random.choice('abcdefghijklmnopqrstuvwxyzABCDEFGHIJKLMNOPQRSTUVWXYZ0123456789')\n",
    "    return str_return\n",
    "def qr_make():\n",
    "    rad=qr_random()\n",
    "    img = qrcode.make(rad)\n",
    "    img.save(\"qr_code/%s.png\"%(rad))"
   ]
  },
  {
   "cell_type": "code",
   "execution_count": 19,
   "metadata": {},
   "outputs": [
    {
     "name": "stdout",
     "output_type": "stream",
     "text": [
      "請輸入製作數量：30\n"
     ]
    }
   ],
   "source": [
    "for item in range(0,int(input('請輸入製作數量：'))):\n",
    "    qr_make()"
   ]
  },
  {
   "cell_type": "code",
   "execution_count": null,
   "metadata": {},
   "outputs": [],
   "source": []
  },
  {
   "cell_type": "code",
   "execution_count": null,
   "metadata": {},
   "outputs": [],
   "source": []
  }
 ],
 "metadata": {
  "kernelspec": {
   "display_name": "Python 3",
   "language": "python",
   "name": "python3"
  },
  "language_info": {
   "codemirror_mode": {
    "name": "ipython",
    "version": 3
   },
   "file_extension": ".py",
   "mimetype": "text/x-python",
   "name": "python",
   "nbconvert_exporter": "python",
   "pygments_lexer": "ipython3",
   "version": "3.6.4"
  }
 },
 "nbformat": 4,
 "nbformat_minor": 2
}
